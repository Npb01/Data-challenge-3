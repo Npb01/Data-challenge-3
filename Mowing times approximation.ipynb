{
 "cells": [
  {
   "cell_type": "code",
   "execution_count": 45,
   "metadata": {},
   "outputs": [],
   "source": [
    "import matplotlib.pyplot as plt"
   ]
  },
  {
   "cell_type": "code",
   "execution_count": 11,
   "metadata": {},
   "outputs": [],
   "source": [
    "import numpy as np\n",
    "import pandas as pd\n",
    "import lmfit\n",
    "import datetime\n",
    "from datetime import date\n",
    "from sklearn import linear_model\n",
    "import datetime\n",
    "import argparse\n",
    "pd.options.mode.chained_assignment = None  # default='warn'\n",
    "\n",
    "#---------------Please adjust variables here or in the command line------------------------------------------------------------\n",
    "data_path='C:\\\\Users\\\\Bringer\\\\Documents\\\\JADS\\\\Aa-en-Maas\\\\Features\\\\' #(--data_path)\n",
    "weir='211B_211C' #(--weir)\n",
    "risk_date='2021-04-01' # (--risk_date)\n",
    "prediction=False # True for prediction (--prediction)\n",
    "last_days=7 # (--last_days) For prediction: Defines how many days the linear model takes into account to predict the next 21 days\n",
    "avg_temp=22 # (--avg_temp) For prediction: Average Temperature adjusts the prediction +/- 20%\n",
    "#---------------End of adjust variables-------------------------------------------------------------------------------------------\n",
    "\n",
    "# From now on PLEASE DO NOT CHANGE------------------------------------------------------------------------------------------------\n",
    "\n",
    "def get_data(weir,data_path,date_format=False):\n",
    "    ''' Get the feature data of the individual weir\n",
    "    Keyword arguments:\n",
    "    weir -- the weir name as string\n",
    "    date_format -- date_format boolean \n",
    "    data_path -- the local path of the weir feature data csv's\n",
    "    Returns: data as dataframe'''\n",
    "    datapath=data_path+weir+'_feature_table.csv'\n",
    "    data=pd.read_csv(datapath,index_col=\"TIME\",parse_dates=True)\n",
    "    if date_format:\n",
    "        data.index=data.index.strftime('%Y-%m-%d')\n",
    "    return data\n",
    "    \n",
    "def get_model(weir:str,year:int,data_path):\n",
    "    '''Get the model Aa-en-Maas uses to define the backwater caused in winter\n",
    "    Keyword arguments:\n",
    "    weir -- the weir name as string\n",
    "    year -- year as int\n",
    "    data_path -- the local path of the weir feature data csv's\n",
    "    Returns: model'''\n",
    "    weir_data=get_data(weir,data_path,date_format=True)\n",
    "    selected_data=weir_data[['VERSCHIL', 'Q']]\n",
    "    # Set values of Verschil lower than 0 to 0 as backwater cannot be negative\n",
    "    selected_data['VERSCHIL']=negative_backwater_to_zero(selected_data['VERSCHIL'])\n",
    "    # Set the Q value also to 0 where backwater is now 0\n",
    "    selected_data.loc[(selected_data.VERSCHIL == 0),'Q']=0\n",
    "    # Winter season where plants are \"not\" growing from 1st October to end of February\n",
    "    winter_data=selected_data.loc[str(year-1)+'-10-01':str(year)+'-02-31']\n",
    "    # The polynomial function Aa-en-Maas currently uses\n",
    "    def eqn_poly(x, a, b):\n",
    "        ''' simple polynomial function'''\n",
    "        return  a*(x**b)     \n",
    "    mod = lmfit.Model(eqn_poly)\n",
    "    lm_result = mod.fit(np.array(winter_data['VERSCHIL']), x=np.array(winter_data['Q']), a=1.0, b=1.0)\n",
    "    return lm_result\n",
    "    \n",
    "def negative_backwater_to_zero(vegetation_data):\n",
    "    '''Set values lower than 0 to 0 as backwater cannot be negative'''\n",
    "    return np.clip(vegetation_data, 0, None)\n",
    "    \n",
    "def calc_vegetation(weir,weir_data,risk_date,data_path):\n",
    "    '''Calculate the back water caused by plants of a single data point\n",
    "    Keyword arguments:\n",
    "    weir -- the weir name as string\n",
    "    weir_data -- the feature data of the weir\n",
    "    risk_date -- the date where the vegetation risk should be evaluated on\n",
    "    data_path -- the local path of the weir feature data csv's\n",
    "    Returns: current vegetation '''\n",
    "    try:\n",
    "        # Take the necessary features(VERSCHIL and Q) of the data at the given date\n",
    "        risk_date_data=weir_data[['VERSCHIL', 'Q']].loc[risk_date]\n",
    "    except:\n",
    "        print('This date is not in the database')\n",
    "    risk_date=datetime.datetime.strptime(risk_date, \"%Y-%m-%d\")\n",
    "    current_year=risk_date.year\n",
    "    try:\n",
    "        #Get the winter baseline model of the current year\n",
    "        model=get_model(weir,year=current_year,data_path=data_path)\n",
    "    except:\n",
    "        print('Error, model cannot be created for year {}'.format(current_year))\n",
    "        return 0\n",
    "    # If the date is in the winter period, \n",
    "    if ((risk_date.month <= 2) | (risk_date.month >= 10)):\n",
    "        # the back water is assumed to be 0 as the plants do \"not\" grow in winter\n",
    "        current_vegetation = 0\n",
    "    elif (risk_date_data.empty):\n",
    "        print(\"No flow data for \"+ weir+ \" on date \", risk_date)\n",
    "        current_vegetation = None\n",
    "    elif (len(risk_date_data) == 0):\n",
    "        print(\"No data for \", weir, \" on date \", risk_date)\n",
    "        current_vegetation = None\n",
    "    else:\n",
    "        # Predict the vegetation for every summer data point based on the winter baseline\n",
    "        winter_pred = model.eval(x=risk_date_data['Q'])\n",
    "        winter_pred=negative_backwater_to_zero(winter_pred)\n",
    "        # Calculate the vegetation by plants: Current back water - predicted back water based on winter\n",
    "        current_vegetation= risk_date_data.loc[\"VERSCHIL\"] - winter_pred\n",
    "        current_vegetation=negative_backwater_to_zero(current_vegetation)\n",
    "    return current_vegetation   \n",
    "    \n",
    "def calc_vegetation_risk(weir,risk_date, data_path):\n",
    "    ''' Calculate the vegetation risk between 1 and 4\n",
    "    Keyword arguments:\n",
    "    weir -- the weir name as string\n",
    "    risk_date -- the date where the vegetation risk should be evaluated on\n",
    "    data_path -- the local path of the weir feature data csv's\n",
    "    Returns: Risk category, Quantiles of vegetation 25,50,75'''\n",
    "    weir_data=get_data(weir,date_format=True,data_path=data_path)\n",
    "    # Calculate the back water by plants on given date\n",
    "    current_vegetation=calc_vegetation(weir,weir_data,risk_date,data_path)\n",
    "    risk_date=datetime.datetime.strptime(risk_date, \"%Y-%m-%d\")\n",
    "    current_year=risk_date.year\n",
    "    min_year=current_year - 3\n",
    "    total_vegetation=[]\n",
    "    # Get the vegetation for the last three years\n",
    "    for year in range(min_year,current_year):\n",
    "        try: \n",
    "            # load model of given year\n",
    "            model_year =get_model(weir, year=year,data_path=data_path)\n",
    "        except:\n",
    "            print('Error,year '+str(year)+' model cannot be created')  \n",
    "            continue\n",
    "        # Select summer season data from March till end of September\n",
    "        summer_data = weir_data.loc[str(year)+'-03-01':str(year)+'-09-31']\n",
    "        # Predict the vegetation for every summer data point based on the winter baseline\n",
    "        winter_pred = model_year.eval(x=summer_data['Q']) \n",
    "        winter_pred=negative_backwater_to_zero(winter_pred)\n",
    "        # Calculate the vegetation by plants: Current back water - predicted back water based on winter\n",
    "        vegetation_year=summer_data.loc[:,\"VERSCHIL\"]-winter_pred\n",
    "        vegetation_year=negative_backwater_to_zero(vegetation_year)\n",
    "        total_vegetation.append(vegetation_year)\n",
    "    total_vegetation = pd.concat(total_vegetation)\n",
    "    # Get Quantiles of the total vegetation\n",
    "    vegetation_q25=np.quantile(total_vegetation,0.25)\n",
    "    vegetation_q50=np.quantile(total_vegetation,0.50)\n",
    "    vegetation_q75=np.quantile(total_vegetation,0.75)\n",
    "    # Get Risk category based on quantile segment\n",
    "    risk_cat=np.where(current_vegetation > vegetation_q75,4,np.where(current_vegetation > vegetation_q50,3,np.where(current_vegetation > vegetation_q25,2,1))).tolist()\n",
    "    # Return risk category and the quantiles\n",
    "    print(\"The risk category for the date: {} is {}. The following quantiles were used for the risk calculation 0.25:{}, 0.5:{}, 0.75:{}\".format(risk_date,risk_cat,vegetation_q25, vegetation_q50, vegetation_q75))\n",
    "    return [risk_cat,vegetation_q25, vegetation_q50, vegetation_q75]\n",
    "    \n",
    "def predict_vegetation(weir,last_days,avg_temp,data_path):\n",
    "    '''Predict the vegetation of the next 21 days based on the last 7 days with linear model\n",
    "    Keyword arguments:\n",
    "    weir -- the weir name as string\n",
    "    last_days -- the number of days the linear model should base the prediction on\n",
    "    avg_temp -- the average temperature adjusting the predictions by +/- 20%\n",
    "    data_path -- the local path of the weir feature data csv's\n",
    "    Returns: Dataframe of the backwater predictions of the next 21 days'''\n",
    "    data=get_data(weir,data_path,date_format=True)\n",
    "    data.reset_index(inplace=True)\n",
    "    # Get the last data points depending on number of last_days\n",
    "    last_data=data.tail(last_days)\n",
    "    # Get last day to calculate \n",
    "    last_day = datetime.datetime.strptime(last_data.iloc[-1]['index'], \"%Y-%m-%d\")\n",
    "    # Get dates of the next 21 days\n",
    "    new_dates=[last_day+datetime.timedelta(days=i) for i in range(1,22)]\n",
    "    # Calculate back water by vegetation for the last days\n",
    "    last_data['vegetation']=last_data['index'].apply(lambda row:calc_vegetation(weir,get_data(weir,data_path,date_format=True),row,data_path))\n",
    "    last_data.reset_index(inplace=True)\n",
    "    # Define linear model\n",
    "    reg = linear_model.LinearRegression()\n",
    "    # Take index and the back water by vegetation as training data\n",
    "    x_train=last_data.index.to_numpy().reshape(-1, 1)\n",
    "    y_train=last_data['vegetation'].to_numpy().reshape(-1, 1)\n",
    "    # Fit the linear model on the last days\n",
    "    reg.fit(x_train,y_train)\n",
    "    # Get index for the next 21 days\n",
    "    x_test=[x_train[-1]+i for i in range(1,22)]\n",
    "    # Predict the vegetation for the next 21 days\n",
    "    predictions=reg.predict(x_test)\n",
    "    # Format\n",
    "    predictions= [item for elem in predictions.tolist() for item in elem]\n",
    "    # Depending on the temperature add multplication value to adjust values\n",
    "    try:\n",
    "        if (avg_temp > 25):\n",
    "            predictions=[pred*1.2 for pred in predictions]\n",
    "        elif (avg_temp<20):\n",
    "            predictions=[pred*0.8 for pred in predictions]\n",
    "    except:\n",
    "        print(\"The Temperature was not available\")\n",
    "    data = {'index':  new_dates,'Predicted backwater by vegetation': predictions}\n",
    "    df = pd.DataFrame (data, columns = ['index','Predicted backwater by vegetation'])\n",
    "    print(df)\n",
    "    return df\n",
    "    \n",
    "def main():\n",
    "    parser = argparse.ArgumentParser(description='Arguments get parsed via --commands')\n",
    "    parser.add_argument('--weir', type=str,default=weir)\n",
    "    parser.add_argument('--risk_date', type=str, default=risk_date)\n",
    "    parser.add_argument('--data_path', type=str,default=data_path)\n",
    "    parser.add_argument('--prediction', type=bool,default=prediction)\n",
    "    parser.add_argument('--last_days', type=int,default=last_days)\n",
    "    parser.add_argument('--avg_temp', type=int,default=avg_temp)\n",
    "    args = parser.parse_args([])\n",
    "    if args.prediction:\n",
    "        predict_vegetation(weir=args.weir,last_days=args.last_days,avg_temp=args.avg_temp,data_path=args.data_path)\n",
    "    else:\n",
    "        calc_vegetation_risk(weir=args.weir,risk_date=args.risk_date, data_path=args.data_path)\n",
    "    \n",
    "#if __name__ == '__main__':\n",
    "#    main()"
   ]
  },
  {
   "cell_type": "code",
   "execution_count": 12,
   "metadata": {},
   "outputs": [],
   "source": [
    "data_path='C:/Users/20193723/Documents/Data Challenge 3/Data/Individual weirs/' #(--data_path)\n",
    "weir='211N_211M' #(--weir)\n",
    "risk_date='2021-04-28' # (--risk_date)\n",
    "prediction=True # True for prediction (--prediction)\n",
    "last_days=7 # (--last_days) For prediction: Defines how many days the linear model takes into account to predict the next 21 days\n",
    "avg_temp=22 # (--avg_temp) For prediction: Average Temperature adjusts the prediction +/- 20%"
   ]
  },
  {
   "cell_type": "code",
   "execution_count": 13,
   "metadata": {},
   "outputs": [
    {
     "name": "stdout",
     "output_type": "stream",
     "text": [
      "        index  Predicted backwater by vegetation\n",
      "0  2021-07-10                           0.276287\n",
      "1  2021-07-11                           0.293739\n",
      "2  2021-07-12                           0.311191\n",
      "3  2021-07-13                           0.328643\n",
      "4  2021-07-14                           0.346095\n",
      "5  2021-07-15                           0.363547\n",
      "6  2021-07-16                           0.380999\n",
      "7  2021-07-17                           0.398451\n",
      "8  2021-07-18                           0.415903\n",
      "9  2021-07-19                           0.433355\n",
      "10 2021-07-20                           0.450807\n",
      "11 2021-07-21                           0.468259\n",
      "12 2021-07-22                           0.485710\n",
      "13 2021-07-23                           0.503162\n",
      "14 2021-07-24                           0.520614\n",
      "15 2021-07-25                           0.538066\n",
      "16 2021-07-26                           0.555518\n",
      "17 2021-07-27                           0.572970\n",
      "18 2021-07-28                           0.590422\n",
      "19 2021-07-29                           0.607874\n",
      "20 2021-07-30                           0.625326\n"
     ]
    }
   ],
   "source": [
    "if __name__ == '__main__':\n",
    "    main()"
   ]
  },
  {
   "cell_type": "raw",
   "metadata": {},
   "source": [
    "## Pseudo code\n",
    "For i in list of weir names:\n",
    "    Load data\n",
    "    Check if it has three years of data or more\n",
    "    Save to a list if it has enough data\n",
    "    return list\n",
    "    \n",
    "For i in list of weir names:\n",
    "    visualize verschillen\n",
    "    (possibly find a way to automate checking for a large decrease)(could be done by finding maxima, and checking if \n",
    "     decrease is large enough)\n",
    "\n",
    "\"\"\"\n",
    "What else can we do to see if model is usable in streams?\n",
    "\"\"\""
   ]
  },
  {
   "cell_type": "code",
   "execution_count": 108,
   "metadata": {},
   "outputs": [
    {
     "name": "stdout",
     "output_type": "stream",
     "text": [
      "12\n"
     ]
    }
   ],
   "source": [
    "from os import walk\n",
    "\n",
    "weirlist = []\n",
    "mypath= 'C:/Users/20193723/Documents/Data Challenge 3/Data/Individual weirs/'\n",
    "for (dirpath, dirnames, filenames) in walk(mypath):    \n",
    "    weirlist.extend(filenames)\n",
    "    break\n",
    "#print(weirlist)\n",
    "\n",
    "has_three_years = []\n",
    "for weir in weirlist:\n",
    "    datapath = dirpath+weir\n",
    "    current = pd.read_csv(datapath,parse_dates=True)\n",
    "    current[['TIME']]=pd.to_datetime(current['TIME'], format= '%Y-%m-%d')\n",
    "    if current['TIME'][len(current)-1].year - current['TIME'][0].year >= 3:\n",
    "        has_three_years.append(weir) \n",
    "#print(has_three_years)\n",
    "\n",
    "mowing_dates_per_weir= {}\n",
    "for weir in weirlist:\n",
    "    datapath = dirpath+weir\n",
    "    current = pd.read_csv(datapath,parse_dates=True)\n",
    "    current[['TIME']]=pd.to_datetime(current['TIME'], format= '%Y-%m-%d')\n",
    "    \n",
    "    \"\"\"\n",
    "    Adjust part below to find \n",
    "    \"\"\"\n",
    "    for verschil in range(len(current)):\n",
    "        if current['VERSCHIL'][verschil] < 0:\n",
    "            current['VERSCHIL'][verschil] = 0\n",
    "    dates= []\n",
    "    current['diff'] = current['VERSCHIL'].diff(periods=-1)\n",
    "    mowing_times = current[current['diff'] > (current['diff'].std() *2.5)]\n",
    "    \n",
    "    #mowing_times[['TIME']] = mowing_times[['TIME']].datetime.strftime(\"%Y-%m-%d\")\n",
    "    dates= mowing_times['TIME'].tolist() \n",
    "    mowing_dates_per_weir[weir[:-18]] = dates\n",
    "    \n",
    "print(len(mowing_dates_per_weir['104B_104OYE']))"
   ]
  },
  {
   "cell_type": "code",
   "execution_count": 77,
   "metadata": {},
   "outputs": [],
   "source": [
    "current['diff'] = current['VERSCHIL'].diff(periods=-3)"
   ]
  },
  {
   "cell_type": "code",
   "execution_count": 83,
   "metadata": {},
   "outputs": [],
   "source": [
    "mowing_times = current[current['diff'] > (current['diff'].std() *3)]"
   ]
  },
  {
   "cell_type": "code",
   "execution_count": 84,
   "metadata": {},
   "outputs": [
    {
     "data": {
      "text/html": [
       "<div>\n",
       "<style scoped>\n",
       "    .dataframe tbody tr th:only-of-type {\n",
       "        vertical-align: middle;\n",
       "    }\n",
       "\n",
       "    .dataframe tbody tr th {\n",
       "        vertical-align: top;\n",
       "    }\n",
       "\n",
       "    .dataframe thead th {\n",
       "        text-align: right;\n",
       "    }\n",
       "</style>\n",
       "<table border=\"1\" class=\"dataframe\">\n",
       "  <thead>\n",
       "    <tr style=\"text-align: right;\">\n",
       "      <th></th>\n",
       "      <th>TIME</th>\n",
       "      <th>STUWVAK</th>\n",
       "      <th>VERSCHIL</th>\n",
       "      <th>Q</th>\n",
       "      <th>diff</th>\n",
       "    </tr>\n",
       "  </thead>\n",
       "  <tbody>\n",
       "    <tr>\n",
       "      <th>13</th>\n",
       "      <td>2020-07-14 00:00:00+00:00</td>\n",
       "      <td>251U_251T</td>\n",
       "      <td>0.244000</td>\n",
       "      <td>0.397946</td>\n",
       "      <td>0.107209</td>\n",
       "    </tr>\n",
       "    <tr>\n",
       "      <th>14</th>\n",
       "      <td>2020-07-15 00:00:00+00:00</td>\n",
       "      <td>251U_251T</td>\n",
       "      <td>0.225208</td>\n",
       "      <td>0.395205</td>\n",
       "      <td>0.094114</td>\n",
       "    </tr>\n",
       "    <tr>\n",
       "      <th>67</th>\n",
       "      <td>2020-09-06 00:00:00+00:00</td>\n",
       "      <td>251U_251T</td>\n",
       "      <td>0.243292</td>\n",
       "      <td>0.379728</td>\n",
       "      <td>0.096709</td>\n",
       "    </tr>\n",
       "    <tr>\n",
       "      <th>223</th>\n",
       "      <td>2021-02-09 00:00:00+00:00</td>\n",
       "      <td>251U_251T</td>\n",
       "      <td>0.193073</td>\n",
       "      <td>0.276716</td>\n",
       "      <td>0.121510</td>\n",
       "    </tr>\n",
       "    <tr>\n",
       "      <th>255</th>\n",
       "      <td>2021-03-13 00:00:00+00:00</td>\n",
       "      <td>251U_251T</td>\n",
       "      <td>0.129109</td>\n",
       "      <td>0.247366</td>\n",
       "      <td>0.088698</td>\n",
       "    </tr>\n",
       "    <tr>\n",
       "      <th>256</th>\n",
       "      <td>2021-03-14 00:00:00+00:00</td>\n",
       "      <td>251U_251T</td>\n",
       "      <td>0.131678</td>\n",
       "      <td>0.244830</td>\n",
       "      <td>0.100083</td>\n",
       "    </tr>\n",
       "  </tbody>\n",
       "</table>\n",
       "</div>"
      ],
      "text/plain": [
       "                         TIME    STUWVAK  VERSCHIL         Q      diff\n",
       "13  2020-07-14 00:00:00+00:00  251U_251T  0.244000  0.397946  0.107209\n",
       "14  2020-07-15 00:00:00+00:00  251U_251T  0.225208  0.395205  0.094114\n",
       "67  2020-09-06 00:00:00+00:00  251U_251T  0.243292  0.379728  0.096709\n",
       "223 2021-02-09 00:00:00+00:00  251U_251T  0.193073  0.276716  0.121510\n",
       "255 2021-03-13 00:00:00+00:00  251U_251T  0.129109  0.247366  0.088698\n",
       "256 2021-03-14 00:00:00+00:00  251U_251T  0.131678  0.244830  0.100083"
      ]
     },
     "execution_count": 84,
     "metadata": {},
     "output_type": "execute_result"
    }
   ],
   "source": [
    "mowing_times"
   ]
  },
  {
   "cell_type": "code",
   "execution_count": 78,
   "metadata": {},
   "outputs": [
    {
     "data": {
      "text/plain": [
       "[<matplotlib.lines.Line2D at 0x1f05dc5e4a8>]"
      ]
     },
     "execution_count": 78,
     "metadata": {},
     "output_type": "execute_result"
    },
    {
     "data": {
      "image/png": "[encoded data removed]",
      "text/plain": [
       "<Figure size 432x288 with 1 Axes>"
      ]
     },
     "metadata": {
      "needs_background": "light"
     },
     "output_type": "display_data"
    }
   ],
   "source": [
    "plt.plot(current['diff'])"
   ]
  },
  {
   "cell_type": "code",
   "execution_count": 56,
   "metadata": {},
   "outputs": [
    {
     "data": {
      "text/plain": [
       "[<matplotlib.lines.Line2D at 0x1f053a9bcc0>]"
      ]
     },
     "execution_count": 56,
     "metadata": {},
     "output_type": "execute_result"
    },
    {
     "data": {
      "image/png": "[encoded data removed]",
      "text/plain": [
       "<Figure size 432x288 with 1 Axes>"
      ]
     },
     "metadata": {
      "needs_background": "light"
     },
     "output_type": "display_data"
    }
   ],
   "source": [
    "plt.plot(current['VERSCHIL'])"
   ]
  },
  {
   "cell_type": "code",
   "execution_count": 57,
   "metadata": {},
   "outputs": [
    {
     "data": {
      "text/plain": [
       "[<matplotlib.lines.Line2D at 0x1f05353d828>]"
      ]
     },
     "execution_count": 57,
     "metadata": {},
     "output_type": "execute_result"
    },
    {
     "data": {
      "image/png": "[encoded data removed]",
      "text/plain": [
       "<Figure size 432x288 with 1 Axes>"
      ]
     },
     "metadata": {
      "needs_background": "light"
     },
     "output_type": "display_data"
    }
   ],
   "source": [
    "plt.plot(current['Q'])"
   ]
  },
  {
   "cell_type": "code",
   "execution_count": 54,
   "metadata": {},
   "outputs": [],
   "source": [
    "for verschil in range(len(current)):\n",
    "    if current['VERSCHIL'][verschil] < 0:\n",
    "        current['VERSCHIL'][verschil] = 0\n"
   ]
  },
  {
   "cell_type": "code",
   "execution_count": 55,
   "metadata": {},
   "outputs": [
    {
     "data": {
      "text/plain": [
       "0     0.000000\n",
       "1     0.000000\n",
       "2     0.137135\n",
       "3     0.173813\n",
       "4     0.178271\n",
       "5     0.172625\n",
       "6     0.158854\n",
       "7     0.170229\n",
       "8     0.177334\n",
       "9     0.170906\n",
       "10    0.175677\n",
       "11    0.182125\n",
       "12    0.206292\n",
       "13    0.244000\n",
       "14    0.225208\n",
       "Name: VERSCHIL, dtype: float64"
      ]
     },
     "execution_count": 55,
     "metadata": {},
     "output_type": "execute_result"
    }
   ],
   "source": [
    "current['VERSCHIL'].head(15)"
   ]
  },
  {
   "cell_type": "code",
   "execution_count": null,
   "metadata": {},
   "outputs": [],
   "source": [
    "for weir in f:\n",
    "    datapath = dirpath+weir\n",
    "    current = pd.read_csv(datapath,parse_dates=True)\n",
    "    current[['TIME']]=pd.to_datetime(current['TIME'], format= '%Y-%m-%d')\n",
    "    "
   ]
  },
  {
   "cell_type": "code",
   "execution_count": null,
   "metadata": {},
   "outputs": [],
   "source": []
  }
 ],
 "metadata": {
  "kernelspec": {
   "display_name": "Python 3",
   "language": "python",
   "name": "python3"
  },
  "language_info": {
   "codemirror_mode": {
    "name": "ipython",
    "version": 3
   },
   "file_extension": ".py",
   "mimetype": "text/x-python",
   "name": "python",
   "nbconvert_exporter": "python",
   "pygments_lexer": "ipython3",
   "version": "3.7.3"
  }
 },
 "nbformat": 4,
 "nbformat_minor": 2
}
