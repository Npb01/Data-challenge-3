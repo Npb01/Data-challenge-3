{
 "cells": [
  {
   "cell_type": "code",
   "execution_count": 1,
   "metadata": {},
   "outputs": [],
   "source": [
    "%load_ext autoreload\n",
    "%autoreload 2"
   ]
  },
  {
   "cell_type": "code",
   "execution_count": 17,
   "metadata": {},
   "outputs": [],
   "source": [
    "import matplotlib.pyplot as plt\n",
    "from sklearn.metrics import mean_absolute_error\n",
    "import statistics\n",
    "from current_model import *\n",
    "import datetime"
   ]
  },
  {
   "cell_type": "code",
   "execution_count": 18,
   "metadata": {},
   "outputs": [
    {
     "data": {
      "text/html": [
       "\n",
       "<style>\n",
       "    div#notebook-container    { width: 95%; }\n",
       "    div#menubar-container     { width: 95%; }\n",
       "    div#maintoolbar-container { width: 99%; }\n",
       "</style>\n"
      ],
      "text/plain": [
       "<IPython.core.display.HTML object>"
      ]
     },
     "metadata": {},
     "output_type": "display_data"
    }
   ],
   "source": [
    "from sklearn.metrics import mean_squared_error\n",
    "\n",
    "from IPython.display import display, HTML\n",
    "\n",
    "display(HTML(data=\"\"\"\n",
    "<style>\n",
    "    div#notebook-container    { width: 95%; }\n",
    "    div#menubar-container     { width: 95%; }\n",
    "    div#maintoolbar-container { width: 99%; }\n",
    "</style>\n",
    "\"\"\"))"
   ]
  },
  {
   "cell_type": "markdown",
   "metadata": {},
   "source": [
    "## Function to get the real value and the predicted amount of backwater caused by vegetation"
   ]
  },
  {
   "cell_type": "code",
   "execution_count": 19,
   "metadata": {},
   "outputs": [],
   "source": [
    "def analyze_pred_veg2(dat,weir,last_days,avg_temp,risk_date):\n",
    "    data = dat[dat['STUWVAK'] == weir]\n",
    "    data.reset_index(inplace=True, drop=True)\n",
    "    real_vegetation = (data[data['index'] > risk_date].head(21)).reset_index()\n",
    "    data = data[data['index'] <= risk_date]\n",
    "    last_data=data.tail(last_days)\n",
    "    last_data.rename(columns = {\"index\": \"TIME\"}, inplace = True)\n",
    "    last_day = datetime.datetime.strptime(last_data.iloc[-1]['TIME'], \"%Y-%m-%d\")\n",
    "    new_dates=[last_day+datetime.timedelta(days=i) for i in range(1,22)]\n",
    "    last_data.reset_index(inplace=True)\n",
    "    # Define linear model\n",
    "    reg = linear_model.LinearRegression()\n",
    "    # Take index and the back water by vegetation as training data\n",
    "    x_train=last_data.index.to_numpy().reshape(-1, 1)\n",
    "    y_train=last_data['Real backwater caused by vegetation'].to_numpy().reshape(-1, 1)\n",
    "    # Fit the linear model on the last days\n",
    "    reg.fit(x_train,y_train)\n",
    "    # Get index for the next 21 days\n",
    "    x_test=[x_train[-1]+i for i in range(1,22)]\n",
    "    # Predict the vegetation for the next 21 days\n",
    "    predictions=reg.predict(x_test)\n",
    "    # Format\n",
    "    predictions=[item for elem in predictions.tolist() for item in elem]\n",
    "    # Depending on the temperature add multplication value to adjust values\n",
    "    try:\n",
    "        if (avg_temp > 25):\n",
    "            predictions=[pred*1.2 for pred in predictions]\n",
    "        elif (avg_temp<20):\n",
    "            predictions=[pred*0.8 for pred in predictions]\n",
    "    except:\n",
    "        print(\"The Temperature was not available\")\n",
    "    data = {'TIME':  new_dates,'Predicted backwater by vegetation': predictions}\n",
    "    df = pd.DataFrame(data, columns = ['TIME','Predicted backwater by vegetation'])\n",
    "    df['Real backwater'] = real_vegetation['Real backwater caused by vegetation'] ## CHANGED VERSCHIL TO 'Real backwater caused by vegetation'\n",
    "    return df"
   ]
  },
  {
   "cell_type": "markdown",
   "metadata": {},
   "source": [
    "## Function to get the mae"
   ]
  },
  {
   "cell_type": "code",
   "execution_count": 20,
   "metadata": {},
   "outputs": [],
   "source": [
    "data_path = 'feature_tables/feature_tables/'"
   ]
  },
  {
   "cell_type": "code",
   "execution_count": 21,
   "metadata": {},
   "outputs": [],
   "source": [
    "from sklearn.metrics import mean_absolute_error\n",
    "\n",
    "def get_mae(dat,weir,last_days,avg_temp):#(weir,data_path,last_days,avg_temp):\n",
    "    #data=get_data(weir,data_path,date_format=True).reset_index()\n",
    "    data = dat[dat['STUWVAK'] == weir]\n",
    "    lst = []\n",
    "    lst1 = []\n",
    "    lst_dates = data['index'].iloc[6:len(data)-21].to_list()[0::21] # Select 1 in every 10 dates in the data set#data['index'].iloc[6:len(data)-21].to_list()\n",
    "    #print(len(lst_dates))\n",
    "    #i=1\n",
    "    for risk_date in lst_dates:\n",
    "        #print(i)\n",
    "        df = analyze_pred_veg2(data,weir,last_days,avg_temp,risk_date)\n",
    "        #mse = mean_squared_error(df['Real backwater'],df['Predicted backwater by vegetation'])\n",
    "        mae = mean_absolute_error(df['Real backwater'],df['Predicted backwater by vegetation'])\n",
    "        lst.append(mae)\n",
    "        lst1.append(df['Predicted backwater by vegetation'].mean())\n",
    "        #i+=1\n",
    "    \n",
    "    df_mae = pd.DataFrame(index=lst_dates)\n",
    "    df_mae['mae'] = lst\n",
    "    df_mae['average predicted value'] = lst1\n",
    "    df_mae['Real Backwater'] = lst2\n",
    "    print(df_mae)\n",
    "    return df_mae"
   ]
  },
  {
   "cell_type": "markdown",
   "metadata": {},
   "source": [
    "## Calculate Real Backwater"
   ]
  },
  {
   "cell_type": "code",
   "execution_count": 22,
   "metadata": {},
   "outputs": [],
   "source": [
    "data = pd.read_csv('All_weirs.csv', parse_dates=True)"
   ]
  },
  {
   "cell_type": "code",
   "execution_count": 23,
   "metadata": {},
   "outputs": [],
   "source": [
    "def det_station(x):\n",
    "    if x[5:7] == '01' or x[5:7] == '02':\n",
    "        return x[:4] + 'Winter'\n",
    "    elif x[5:7] == '10' or x[5:7] == '11' or x[5:7] == '12':\n",
    "        return str(int(x[:4]) + 1) + 'Winter'\n",
    "    else: \n",
    "        return x[:4] + 'Summer'\n",
    "    "
   ]
  },
  {
   "cell_type": "code",
   "execution_count": 24,
   "metadata": {},
   "outputs": [],
   "source": [
    "data['month_year'] = data['TIME'].apply(lambda x : det_station(x))"
   ]
  },
  {
   "cell_type": "code",
   "execution_count": 25,
   "metadata": {},
   "outputs": [],
   "source": [
    "median_winter_weirs = {}\n",
    "for weir in data['STUWVAK'].unique():\n",
    "    weir_data = data[data['STUWVAK'] == weir]\n",
    "    statdict = {}\n",
    "    for station in weir_data['month_year'].unique():\n",
    "        if station[4:] == 'Winter':\n",
    "            stat = weir_data[weir_data['month_year'] == station]\n",
    "            if len(stat) > 0:\n",
    "                statdict[station] = stat['VERSCHIL'].median()\n",
    "    median_winter_weirs[weir] = statdict"
   ]
  },
  {
   "cell_type": "code",
   "execution_count": 27,
   "metadata": {},
   "outputs": [],
   "source": [
    "data['Real Backwater caused by Vegetation'] = 0.0\n",
    "i = 0\n",
    "while i < len(data):\n",
    "    if data['month_year'][i][4:] == 'Summer':\n",
    "        if data['month_year'][i][:4] + 'Winter' in median_winter_weirs[data['STUWVAK'][i]].keys():\n",
    "            data['Real Backwater caused by Vegetation'][i] = data['VERSCHIL'][i] - median_winter_weirs[data['STUWVAK'][i]][data['month_year'][i][:4] + 'Winter']\n",
    "        else:\n",
    "            data['Real Backwater caused by Vegetation'][i] = 'No winter data for the selected data'\n",
    "    i += 1\n"
   ]
  },
  {
   "cell_type": "markdown",
   "metadata": {},
   "source": [
    "## Start analyzing the assigned data"
   ]
  },
  {
   "cell_type": "code",
   "execution_count": 36,
   "metadata": {},
   "outputs": [
    {
     "data": {
      "text/html": [
       "<div>\n",
       "<style scoped>\n",
       "    .dataframe tbody tr th:only-of-type {\n",
       "        vertical-align: middle;\n",
       "    }\n",
       "\n",
       "    .dataframe tbody tr th {\n",
       "        vertical-align: top;\n",
       "    }\n",
       "\n",
       "    .dataframe thead th {\n",
       "        text-align: right;\n",
       "    }\n",
       "</style>\n",
       "<table border=\"1\" class=\"dataframe\">\n",
       "  <thead>\n",
       "    <tr style=\"text-align: right;\">\n",
       "      <th></th>\n",
       "      <th>STUWVAK</th>\n",
       "      <th>VERSCHIL</th>\n",
       "      <th>Q</th>\n",
       "      <th>month_year</th>\n",
       "      <th>Real backwater caused by vegetation</th>\n",
       "      <th>index</th>\n",
       "    </tr>\n",
       "  </thead>\n",
       "  <tbody>\n",
       "    <tr>\n",
       "      <th>0</th>\n",
       "      <td>103BIC_103BIB</td>\n",
       "      <td>0.082615</td>\n",
       "      <td>0.075021</td>\n",
       "      <td>2021Winter</td>\n",
       "      <td>0.0</td>\n",
       "      <td>2020-10-01</td>\n",
       "    </tr>\n",
       "    <tr>\n",
       "      <th>1</th>\n",
       "      <td>103BIC_103BIB</td>\n",
       "      <td>0.080000</td>\n",
       "      <td>0.019067</td>\n",
       "      <td>2021Winter</td>\n",
       "      <td>0.0</td>\n",
       "      <td>2020-10-02</td>\n",
       "    </tr>\n",
       "    <tr>\n",
       "      <th>2</th>\n",
       "      <td>103BIC_103BIB</td>\n",
       "      <td>0.093250</td>\n",
       "      <td>0.003626</td>\n",
       "      <td>2021Winter</td>\n",
       "      <td>0.0</td>\n",
       "      <td>2020-10-03</td>\n",
       "    </tr>\n",
       "    <tr>\n",
       "      <th>3</th>\n",
       "      <td>103BIC_103BIB</td>\n",
       "      <td>0.087139</td>\n",
       "      <td>0.001093</td>\n",
       "      <td>2021Winter</td>\n",
       "      <td>0.0</td>\n",
       "      <td>2020-10-04</td>\n",
       "    </tr>\n",
       "    <tr>\n",
       "      <th>4</th>\n",
       "      <td>103BIC_103BIB</td>\n",
       "      <td>0.087000</td>\n",
       "      <td>0.000380</td>\n",
       "      <td>2021Winter</td>\n",
       "      <td>0.0</td>\n",
       "      <td>2020-10-05</td>\n",
       "    </tr>\n",
       "    <tr>\n",
       "      <th>...</th>\n",
       "      <td>...</td>\n",
       "      <td>...</td>\n",
       "      <td>...</td>\n",
       "      <td>...</td>\n",
       "      <td>...</td>\n",
       "      <td>...</td>\n",
       "    </tr>\n",
       "    <tr>\n",
       "      <th>34717</th>\n",
       "      <td>251U_251T</td>\n",
       "      <td>0.141594</td>\n",
       "      <td>0.395848</td>\n",
       "      <td>2021Summer</td>\n",
       "      <td>-0.029083</td>\n",
       "      <td>2021-07-12</td>\n",
       "    </tr>\n",
       "    <tr>\n",
       "      <th>34718</th>\n",
       "      <td>251U_251T</td>\n",
       "      <td>0.136792</td>\n",
       "      <td>0.400390</td>\n",
       "      <td>2021Summer</td>\n",
       "      <td>-0.033886</td>\n",
       "      <td>2021-07-13</td>\n",
       "    </tr>\n",
       "    <tr>\n",
       "      <th>34719</th>\n",
       "      <td>251U_251T</td>\n",
       "      <td>0.137073</td>\n",
       "      <td>0.398823</td>\n",
       "      <td>2021Summer</td>\n",
       "      <td>-0.033604</td>\n",
       "      <td>2021-07-14</td>\n",
       "    </tr>\n",
       "    <tr>\n",
       "      <th>34720</th>\n",
       "      <td>251U_251T</td>\n",
       "      <td>0.148073</td>\n",
       "      <td>0.401904</td>\n",
       "      <td>2021Summer</td>\n",
       "      <td>-0.022604</td>\n",
       "      <td>2021-07-15</td>\n",
       "    </tr>\n",
       "    <tr>\n",
       "      <th>34721</th>\n",
       "      <td>251U_251T</td>\n",
       "      <td>0.143500</td>\n",
       "      <td>0.401075</td>\n",
       "      <td>2021Summer</td>\n",
       "      <td>-0.027177</td>\n",
       "      <td>2021-07-16</td>\n",
       "    </tr>\n",
       "  </tbody>\n",
       "</table>\n",
       "<p>34722 rows × 6 columns</p>\n",
       "</div>"
      ],
      "text/plain": [
       "             STUWVAK  VERSCHIL         Q  month_year  \\\n",
       "0      103BIC_103BIB  0.082615  0.075021  2021Winter   \n",
       "1      103BIC_103BIB  0.080000  0.019067  2021Winter   \n",
       "2      103BIC_103BIB  0.093250  0.003626  2021Winter   \n",
       "3      103BIC_103BIB  0.087139  0.001093  2021Winter   \n",
       "4      103BIC_103BIB  0.087000  0.000380  2021Winter   \n",
       "...              ...       ...       ...         ...   \n",
       "34717      251U_251T  0.141594  0.395848  2021Summer   \n",
       "34718      251U_251T  0.136792  0.400390  2021Summer   \n",
       "34719      251U_251T  0.137073  0.398823  2021Summer   \n",
       "34720      251U_251T  0.148073  0.401904  2021Summer   \n",
       "34721      251U_251T  0.143500  0.401075  2021Summer   \n",
       "\n",
       "      Real backwater caused by vegetation       index  \n",
       "0                                     0.0  2020-10-01  \n",
       "1                                     0.0  2020-10-02  \n",
       "2                                     0.0  2020-10-03  \n",
       "3                                     0.0  2020-10-04  \n",
       "4                                     0.0  2020-10-05  \n",
       "...                                   ...         ...  \n",
       "34717                           -0.029083  2021-07-12  \n",
       "34718                           -0.033886  2021-07-13  \n",
       "34719                           -0.033604  2021-07-14  \n",
       "34720                           -0.022604  2021-07-15  \n",
       "34721                           -0.027177  2021-07-16  \n",
       "\n",
       "[34722 rows x 6 columns]"
      ]
     },
     "execution_count": 36,
     "metadata": {},
     "output_type": "execute_result"
    }
   ],
   "source": [
    "awbv = pd.read_csv('Allweirs with backwater caused by vegetation.csv')\n",
    "awbv = data\n",
    "#awbv[awbv['STUWVAK'] == '211B_211A'].reset_index(drop=True)\n",
    "\n",
    "lsttt = [str(datetime.datetime.strptime(dt, '%Y-%m-%dT%H:%M:%SZ').date()) for dt in awbv['TIME']]\n",
    "awbv['index'] = lsttt\n",
    "awbv.drop(columns=['TIME'], inplace=True)\n",
    "awbv.rename(columns={'Real Backwater caused by Vegetation': 'Real backwater caused by vegetation'}, inplace=True)\n",
    "awbv = awbv[awbv['Real backwater caused by vegetation'] != 'No winter data for the selected data'].reset_index(drop=True)\n",
    "awbv"
   ]
  },
  {
   "cell_type": "code",
   "execution_count": null,
   "metadata": {},
   "outputs": [],
   "source": [
    "df_cv = pd.DataFrame()\n",
    "df_cv['Last Days Parameter'] = list(range(2, 31))\n",
    "df_cv['MAE'] = 0.0\n",
    "for nr in range(2, 31): \n",
    "    maes_all = []\n",
    "    for weir in awbv['STUWVAK'].unique():\n",
    "        weir_data = awbv[awbv['STUWVAK'] == weir].reset_index()\n",
    "        weir_data = weir_data.drop(columns = ['level_0'])\n",
    "        weir_data['Predicted Backwater by Vegetation'] = 0.0\n",
    "        i = nr\n",
    "        while i < len(weir_data):\n",
    "            risk_date = weir_data['index'][i]\n",
    "            days21pred = analyze_pred_veg2(weir_data, weir, nr,avg_temp,risk_date)\n",
    "            n = 0\n",
    "            while n < len(days21pred):\n",
    "                if i + n < len(weir_data):\n",
    "                    weir_data['Predicted Backwater by Vegetation'][i + n] = days21pred['Predicted backwater by vegetation'][n]\n",
    "                n += 1\n",
    "            i += 21\n",
    "        weir_maes = []\n",
    "        for year in weir_data['month_year'].unique():\n",
    "            if year[4:] == 'Summer':\n",
    "                yeardata = weir_data[weir_data['month_year'] == year]\n",
    "                c = 0\n",
    "                while c < len(yeardata):\n",
    "                    if weir_data['Predicted Backwater by Vegetation'][c] - weir_data['Real backwater caused by vegetation'][c] > 0:\n",
    "                        weir_maes.append(weir_data['Predicted Backwater by Vegetation'][c] - weir_data['Real backwater caused by vegetation'][c])\n",
    "                    else:\n",
    "                        weir_maes.append(weir_data['Real backwater caused by vegetation'][c] - weir_data['Predicted Backwater by Vegetation'][c])\n",
    "                    c += 1\n",
    "        maes_all.append(np.mean(weir_maes))\n",
    "    df_cv['MAE'][nr - 2] = np.mean(maes_all)\n",
    "                \n",
    "                        \n",
    "                        \n",
    "                "
   ]
  },
  {
   "cell_type": "code",
   "execution_count": null,
   "metadata": {},
   "outputs": [],
   "source": [
    "plt.plot(df_cv['MAE'], df_cv['Nr of Last Days'])\n",
    "plt.ylabel('MAE')\n",
    "plt.xlabel('Last Days Parameter')\n",
    "plt.title('MAE depending on the different values of the last day parameter')"
   ]
  },
  {
   "cell_type": "code",
   "execution_count": null,
   "metadata": {},
   "outputs": [],
   "source": [
    "last_days = 18\n",
    "alldfs = []\n",
    "for weir in Jorgeweirs['STUWVAK'].unique():\n",
    "    weir_data = Jorgeweirs[Jorgeweirs['STUWVAK'] == weir].reset_index()\n",
    "    weir_data['Predicted Backwater by Vegetation'] = 0.0\n",
    "    i = 0\n",
    "    while i < len(weir_data):\n",
    "        risk_date = weir_data['index'][i]\n",
    "        days21pred = analyze_pred_veg2(Jorgeweirs, weir, last_days,avg_temp,risk_date)\n",
    "        n = 0\n",
    "        while n < len(days21pred):\n",
    "            if i + n < len(weir_data):\n",
    "                weir_data['Predicted Backwater by Vegetation'][i + n] = days21pred['Predicted backwater by vegetation'][n]\n",
    "            n += 1\n",
    "        i += 21\n",
    "    alldfs.append(weir_data)"
   ]
  },
  {
   "cell_type": "code",
   "execution_count": null,
   "metadata": {},
   "outputs": [],
   "source": [
    "import math\n",
    "maes_dict = {}\n",
    "for weir in alldfs:\n",
    "    weir['year'] = weir['month_year'].apply(lambda x : x[:4])\n",
    "    weir = weir.drop(columns = ['level_0'])\n",
    "    all_years = {}\n",
    "    for year in weir['year'].unique():\n",
    "        df_year = weir[weir['month_year'] == year + 'Summer']\n",
    "        if len(df_year) > 1:\n",
    "            df_year['Real backwater caused by vegetation'] = df_year['Real backwater caused by vegetation'].apply(lambda x : float(x))\n",
    "            df_year = df_year.reset_index()\n",
    "            i = 0 \n",
    "            list_maes = []\n",
    "            while i < len(df_year):\n",
    "                if df_year['Predicted Backwater by Vegetation'][i] - df_year['Real backwater caused by vegetation'][i] < 0:\n",
    "                    list_maes.append(df_year['Real backwater caused by vegetation'][i] - df_year['Predicted Backwater by Vegetation'][i])\n",
    "                else: \n",
    "                    list_maes.append(df_year['Predicted Backwater by Vegetation'][i] - df_year['Real backwater caused by vegetation'][i])\n",
    "                i += 1\n",
    "            all_years[df_year['year'].unique()[0]] = list_maes\n",
    "    maes_dict[weir['STUWVAK'][0]] = all_years"
   ]
  },
  {
   "cell_type": "code",
   "execution_count": null,
   "metadata": {},
   "outputs": [],
   "source": [
    "\n",
    "stds_dict = {}\n",
    "for weir in alldfs:\n",
    "    weir['year'] = weir['month_year'].apply(lambda x : x[:4])\n",
    "    weir = weir.drop(columns = ['level_0'])\n",
    "    all_years = {}\n",
    "    for year in weir['year'].unique():\n",
    "        df_year = weir[weir['month_year'] == year + 'Summer']\n",
    "        if len(df_year) > 1:\n",
    "            df_year['Real backwater caused by vegetation'] = df_year['Real backwater caused by vegetation'].apply(lambda x : float(x))\n",
    "            variance = df_year['Real backwater caused by vegetation'].var()\n",
    "            std = math.sqrt(variance)\n",
    "            df_year = df_year.reset_index()\n",
    "            i = 0 \n",
    "            list_stds = []\n",
    "            while i < len(df_year):\n",
    "                if df_year['Predicted Backwater by Vegetation'][i] - df_year['Real backwater caused by vegetation'][i] < 0:\n",
    "                    list_stds.append((df_year['Real backwater caused by vegetation'][i] - df_year['Predicted Backwater by Vegetation'][i]) / std)\n",
    "                else: \n",
    "                    list_stds.append((df_year['Predicted Backwater by Vegetation'][i] - df_year['Real backwater caused by vegetation'][i]) / std)\n",
    "                i += 1\n",
    "            all_years[df_year['year'].unique()[0]] = list_stds\n",
    "    stds_dict[weir['STUWVAK'][0]] = all_years"
   ]
  },
  {
   "cell_type": "code",
   "execution_count": null,
   "metadata": {},
   "outputs": [],
   "source": [
    "columns = ['STUWVAK', 'MAE']\n",
    "stuwvak = [''] * 20000\n",
    "mae = [0.0] * 20000\n",
    "data2018 = pd.DataFrame(columns = columns)\n",
    "data2018['MAE'] = mae\n",
    "data2018['STD'] = mae\n",
    "data2018['STUWVAK'] = stuwvak\n",
    "data2019 = pd.DataFrame(columns = columns)\n",
    "data2019['MAE'] = mae\n",
    "data2019['STD'] = mae\n",
    "data2019['STUWVAK'] = stuwvak\n",
    "data2020 = pd.DataFrame(columns = columns)\n",
    "data2020['MAE'] = mae\n",
    "data2020['STD'] = mae\n",
    "data2020['STUWVAK'] = stuwvak\n",
    "data2021 = pd.DataFrame(columns = columns)\n",
    "data2021['MAE'] = mae\n",
    "data2021['STD'] = mae\n",
    "data2021['STUWVAK'] = stuwvak\n",
    "i = 0\n",
    "x = 0\n",
    "y = 0\n",
    "z = 0\n",
    "for weir in maes_dict.keys():\n",
    "    if '2018' in maes_dict[weir].keys():\n",
    "        for mae in maes_dict[weir]['2018']:\n",
    "            data2018['STUWVAK'][i] = weir \n",
    "            data2018['MAE'][i] = mae\n",
    "            i += 1\n",
    "    if '2019' in maes_dict[weir].keys():\n",
    "        for mae in maes_dict[weir]['2019']:\n",
    "            data2019['STUWVAK'][x] = weir\n",
    "            data2019['MAE'][x] = mae\n",
    "            x += 1\n",
    "    if '2020' in maes_dict[weir].keys():\n",
    "        for mae in maes_dict[weir]['2020']:\n",
    "            data2020['STUWVAK'][y] = weir \n",
    "            data2020['MAE'][y] = mae\n",
    "            y += 1\n",
    "    if '2021' in maes_dict[weir].keys():\n",
    "        for mae in maes_dict[weir]['2021']:\n",
    "            data2021['STUWVAK'][z] = weir\n",
    "            data2021['MAE'][z] = mae\n",
    "            z += 1\n",
    "i = 0\n",
    "x = 0\n",
    "y = 0\n",
    "z = 0\n",
    "for weir in stds_dict.keys():\n",
    "    if '2018' in stds_dict[weir].keys():\n",
    "        for std in stds_dict[weir]['2018']:\n",
    "            data2018['STUWVAK'][i] = weir \n",
    "            data2018['STD'][i] = std\n",
    "            i += 1\n",
    "    if '2019' in stds_dict[weir].keys():\n",
    "        for std in stds_dict[weir]['2019']:\n",
    "            data2019['STUWVAK'][x] = weir\n",
    "            data2019['STD'][x] = std\n",
    "            x += 1\n",
    "    if '2020' in stds_dict[weir].keys():\n",
    "        for std in maes_dict[weir]['2020']:\n",
    "            data2020['STUWVAK'][y] = weir \n",
    "            data2020['STD'][y] = std\n",
    "            y += 1\n",
    "    if '2021' in stds_dict[weir].keys():\n",
    "        for std in stds_dict[weir]['2021']:\n",
    "            data2021['STUWVAK'][z] = weir\n",
    "            data2021['STD'][z] = std\n",
    "            z += 1"
   ]
  },
  {
   "cell_type": "code",
   "execution_count": null,
   "metadata": {},
   "outputs": [],
   "source": [
    "data2018 = data2018[data2018['STUWVAK'] != '']\n",
    "data2019 = data2019[data2019['STUWVAK'] != '']\n",
    "data2020 = data2020[data2020['STUWVAK'] != '']\n",
    "data2021 = data2021[data2021['STUWVAK'] != '']"
   ]
  },
  {
   "cell_type": "code",
   "execution_count": null,
   "metadata": {},
   "outputs": [],
   "source": [
    "data2021short = data2021[data2021['STUWVAK'].isin(data2021['STUWVAK'].unique()[:19])]"
   ]
  },
  {
   "cell_type": "code",
   "execution_count": null,
   "metadata": {},
   "outputs": [],
   "source": [
    "for df in alldfs:\n",
    "    df['Change from yesterday'] = 0.0\n",
    "    i = 0\n",
    "    df['Real backwater caused by vegetation'] = df['Real backwater caused by vegetation'].apply(lambda x : float(x))\n",
    "    while i < len(df):\n",
    "        if i >= 1:\n",
    "            if df['Real backwater caused by vegetation'][i] - df['Real backwater caused by vegetation'][i - 1] > 0:\n",
    "                df['Change from yesterday'][i] = df['Real backwater caused by vegetation'][i] - df['Real backwater caused by vegetation'][i - 1]\n",
    "            else:\n",
    "                df['Change from yesterday'][i] = df['Real backwater caused by vegetation'][i - 1] - df['Real backwater caused by vegetation'][i]\n",
    "        i += 1"
   ]
  },
  {
   "cell_type": "code",
   "execution_count": null,
   "metadata": {},
   "outputs": [],
   "source": [
    "import seaborn as sns\n",
    "plt.figure(figsize=(30,20))\n",
    "plt.title('Absolute Errors for each weir in 2021', size = 30)\n",
    "sns.boxplot(x='STUWVAK', y='MAE', data= data2021)\n",
    "plt.ylim(top=1)\n",
    "plt.ylabel('Absolute Error', size = 20)\n",
    "plt.xlabel('STUWVAK', size = 20)\n",
    "plt.show()"
   ]
  },
  {
   "cell_type": "code",
   "execution_count": null,
   "metadata": {},
   "outputs": [],
   "source": [
    "import seaborn as sns\n",
    "plt.figure(figsize=(30,20))\n",
    "plt.title('NR of STDS of AE for each weir in 2021', size = 30)\n",
    "sns.boxplot(x='STUWVAK', y='STD', data= data2021)\n",
    "plt.ylim(top=8)\n",
    "plt.ylabel('STDS', size = 20)\n",
    "plt.xlabel('STUWVAK', size = 20)\n",
    "plt.show()"
   ]
  },
  {
   "cell_type": "code",
   "execution_count": null,
   "metadata": {},
   "outputs": [],
   "source": [
    "bestweirs = data2021.groupby('STUWVAK')['MAE'].median().to_frame().reset_index().sort_values(by=['MAE'],ascending=True)[:10]['STUWVAK'].to_list()\n",
    "worstweirs = data2021.groupby('STUWVAK')['MAE'].median().to_frame().reset_index().sort_values(by=['MAE'],ascending=False)"
   ]
  },
  {
   "cell_type": "code",
   "execution_count": null,
   "metadata": {},
   "outputs": [],
   "source": [
    "data2021.groupby('STUWVAK')['MAE'].median().to_frame().reset_index().sort_values(by=['MAE'],ascending=False)"
   ]
  },
  {
   "cell_type": "code",
   "execution_count": null,
   "metadata": {},
   "outputs": [],
   "source": [
    "data2021.groupby('STUWVAK')['MAE'].median().to_frame().reset_index().sort_values(by=['MAE'],ascending=False)"
   ]
  },
  {
   "cell_type": "code",
   "execution_count": null,
   "metadata": {},
   "outputs": [],
   "source": [
    "best_worst = ['211C_211B', '211L_211K']"
   ]
  },
  {
   "cell_type": "code",
   "execution_count": null,
   "metadata": {},
   "outputs": [],
   "source": [
    "bestweirs = data2021.groupby('STUWVAK')['STD'].median().to_frame().reset_index().sort_values(by=['STD'],ascending=True)[:10]['STUWVAK'].to_list()\n",
    "worstweirs = data2021.groupby('STUWVAK')['STD'].median().to_frame().reset_index().sort_values(by=['STD'],ascending=False)[:10]['STUWVAK'].to_list()"
   ]
  },
  {
   "cell_type": "code",
   "execution_count": null,
   "metadata": {},
   "outputs": [],
   "source": [
    "dataresults = data2021.groupby('STUWVAK')['MAE'].median().to_frame().reset_index().sort_values(by=['MAE'],ascending=True)"
   ]
  },
  {
   "cell_type": "code",
   "execution_count": null,
   "metadata": {},
   "outputs": [],
   "source": [
    "dataresults['Change from one day to another'] = 0.0\n",
    "i = 0\n",
    "for stuwvak in dataresults['STUWVAK']:\n",
    "    for df in alldfs:\n",
    "        if stuwvak == df['STUWVAK'][0]:\n",
    "            df = df[df['month_year'] == '2021Summer']\n",
    "            df['Real backwater caused by vegetation'] = df['Real backwater caused by vegetation'].apply(lambda x : float(x))\n",
    "            rangev = df['Change from yesterday'].mean()\n",
    "            dataresults['Change from one day to another'][i] = rangev\n",
    "    i += 1\n",
    "\n",
    "dataresults['Range'] = 0.0\n",
    "i = 0\n",
    "for stuwvak in dataresults['STUWVAK']:\n",
    "    for df in alldfs:\n",
    "        if stuwvak == df['STUWVAK'][0]:\n",
    "            df = df[df['month_year'] == '2021Summer']\n",
    "            df['Real backwater caused by vegetation'] = df['Real backwater caused by vegetation'].apply(lambda x : float(x))\n",
    "            rangev = df['Real backwater caused by vegetation'].max() - df['Real backwater caused by vegetation'].min()\n",
    "            dataresults['Range'][i] = rangev\n",
    "    i += 1\n",
    "dataresults['Mean'] = 0.0\n",
    "i = 0\n",
    "for stuwvak in dataresults['STUWVAK']:\n",
    "    for df in alldfs:\n",
    "        if stuwvak == df['STUWVAK'][0]:\n",
    "            df = df[df['month_year'] == '2021Summer']\n",
    "            df['Real backwater caused by vegetation'] = df['Real backwater caused by vegetation'].apply(lambda x : float(x))\n",
    "            rangev = df['Real backwater caused by vegetation'].mean()\n",
    "            dataresults['Mean'][i] = rangev\n",
    "    i += 1\n",
    "\n",
    "dataresults['Variation'] = 0.0\n",
    "i = 0\n",
    "for stuwvak in dataresults['STUWVAK']:\n",
    "    for df in alldfs:\n",
    "        if stuwvak == df['STUWVAK'][0]:\n",
    "            df = df[df['month_year'] == '2021Summer']\n",
    "            df['Real backwater caused by vegetation'] = df['Real backwater caused by vegetation'].apply(lambda x : float(x))\n",
    "            rangev = df['Real backwater caused by vegetation'].var()\n",
    "            dataresults['Variation'][i] = rangev\n",
    "    i += 1"
   ]
  },
  {
   "cell_type": "code",
   "execution_count": null,
   "metadata": {},
   "outputs": [],
   "source": [
    "dataresults"
   ]
  },
  {
   "cell_type": "code",
   "execution_count": null,
   "metadata": {},
   "outputs": [],
   "source": [
    "import seaborn as sns\n",
    "sns.regplot(x=dataresults['MAE'], y=dataresults[\"Change from one day to another\"])\n",
    "plt.ylabel('Average Change of Backwater')\n",
    "plt.xlabel('Mean Absolute Error')\n",
    "plt.title('Mean Absolute Error depending on the average change of backwater from one day to another of a stuwvak')"
   ]
  },
  {
   "cell_type": "code",
   "execution_count": null,
   "metadata": {},
   "outputs": [],
   "source": [
    "dataresults = dataresults[dataresults['Range'] < 1.25]"
   ]
  }
 ],
 "metadata": {
  "kernelspec": {
   "display_name": "Python 3",
   "language": "python",
   "name": "python3"
  },
  "language_info": {
   "codemirror_mode": {
    "name": "ipython",
    "version": 3
   },
   "file_extension": ".py",
   "mimetype": "text/x-python",
   "name": "python",
   "nbconvert_exporter": "python",
   "pygments_lexer": "ipython3",
   "version": "3.8.8"
  }
 },
 "nbformat": 4,
 "nbformat_minor": 2
}
